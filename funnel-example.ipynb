{
 "cells": [
  {
   "cell_type": "code",
   "execution_count": 1,
   "metadata": {
    "collapsed": true
   },
   "outputs": [],
   "source": [
    "import pandas as pd"
   ]
  },
  {
   "cell_type": "code",
   "execution_count": 11,
   "metadata": {
    "collapsed": false
   },
   "outputs": [],
   "source": [
    "df = pd.read_csv('web-event-data.csv')"
   ]
  },
  {
   "cell_type": "code",
   "execution_count": 12,
   "metadata": {
    "collapsed": false
   },
   "outputs": [
    {
     "data": {
      "text/plain": [
       "(50000, 6)"
      ]
     },
     "execution_count": 12,
     "metadata": {},
     "output_type": "execute_result"
    }
   ],
   "source": [
    "df.shape"
   ]
  },
  {
   "cell_type": "code",
   "execution_count": 13,
   "metadata": {
    "collapsed": false
   },
   "outputs": [
    {
     "data": {
      "text/html": [
       "<div>\n",
       "<table border=\"1\" class=\"dataframe\">\n",
       "  <thead>\n",
       "    <tr style=\"text-align: right;\">\n",
       "      <th></th>\n",
       "      <th>browser_id</th>\n",
       "      <th>country_code</th>\n",
       "      <th>day</th>\n",
       "      <th>event</th>\n",
       "      <th>referrer</th>\n",
       "      <th>time</th>\n",
       "    </tr>\n",
       "  </thead>\n",
       "  <tbody>\n",
       "    <tr>\n",
       "      <th>0</th>\n",
       "      <td>14679f48c247f-02e4d6a07-4e4c052f-1aeaa0-14679f...</td>\n",
       "      <td>CA</td>\n",
       "      <td>2014-06-08</td>\n",
       "      <td>browse_page</td>\n",
       "      <td>http://www.reddit.com/r/Corvette/?count=25&amp;aft...</td>\n",
       "      <td>1402190996</td>\n",
       "    </tr>\n",
       "    <tr>\n",
       "      <th>1</th>\n",
       "      <td>14679f48c247f-02e4d6a07-4e4c052f-1aeaa0-14679f...</td>\n",
       "      <td>CA</td>\n",
       "      <td>2014-06-08</td>\n",
       "      <td>browse_page</td>\n",
       "      <td>http://www.tailpipe.co/model/corvette?year=196...</td>\n",
       "      <td>1402191053</td>\n",
       "    </tr>\n",
       "    <tr>\n",
       "      <th>2</th>\n",
       "      <td>1462a54454f178-02687cf0f-18154453-fa000-1462a5...</td>\n",
       "      <td>US</td>\n",
       "      <td>2014-06-08</td>\n",
       "      <td>home</td>\n",
       "      <td>http://www.tailpipe.dev:8000/</td>\n",
       "      <td>1402191192</td>\n",
       "    </tr>\n",
       "    <tr>\n",
       "      <th>3</th>\n",
       "      <td>1462a54454f178-02687cf0f-18154453-fa000-1462a5...</td>\n",
       "      <td>US</td>\n",
       "      <td>2014-06-08</td>\n",
       "      <td>browse_page</td>\n",
       "      <td>http://www.tailpipe.dev:8000/price_pulse</td>\n",
       "      <td>1402191199</td>\n",
       "    </tr>\n",
       "    <tr>\n",
       "      <th>4</th>\n",
       "      <td>1462a54454f178-02687cf0f-18154453-fa000-1462a5...</td>\n",
       "      <td>US</td>\n",
       "      <td>2014-06-08</td>\n",
       "      <td>browse_page</td>\n",
       "      <td>http://www.tailpipe.dev:8000/price_pulse</td>\n",
       "      <td>1402191206</td>\n",
       "    </tr>\n",
       "  </tbody>\n",
       "</table>\n",
       "</div>"
      ],
      "text/plain": [
       "                                          browser_id country_code         day  \\\n",
       "0  14679f48c247f-02e4d6a07-4e4c052f-1aeaa0-14679f...           CA  2014-06-08   \n",
       "1  14679f48c247f-02e4d6a07-4e4c052f-1aeaa0-14679f...           CA  2014-06-08   \n",
       "2  1462a54454f178-02687cf0f-18154453-fa000-1462a5...           US  2014-06-08   \n",
       "3  1462a54454f178-02687cf0f-18154453-fa000-1462a5...           US  2014-06-08   \n",
       "4  1462a54454f178-02687cf0f-18154453-fa000-1462a5...           US  2014-06-08   \n",
       "\n",
       "         event                                           referrer        time  \n",
       "0  browse_page  http://www.reddit.com/r/Corvette/?count=25&aft...  1402190996  \n",
       "1  browse_page  http://www.tailpipe.co/model/corvette?year=196...  1402191053  \n",
       "2         home                      http://www.tailpipe.dev:8000/  1402191192  \n",
       "3  browse_page           http://www.tailpipe.dev:8000/price_pulse  1402191199  \n",
       "4  browse_page           http://www.tailpipe.dev:8000/price_pulse  1402191206  "
      ]
     },
     "execution_count": 13,
     "metadata": {},
     "output_type": "execute_result"
    }
   ],
   "source": [
    "df.head()"
   ]
  },
  {
   "cell_type": "code",
   "execution_count": 33,
   "metadata": {
    "collapsed": false
   },
   "outputs": [
    {
     "data": {
      "text/html": [
       "<div>\n",
       "<table border=\"1\" class=\"dataframe\">\n",
       "  <thead>\n",
       "    <tr style=\"text-align: right;\">\n",
       "      <th></th>\n",
       "      <th>search_page</th>\n",
       "      <th>product_page</th>\n",
       "      <th>share_product</th>\n",
       "    </tr>\n",
       "    <tr>\n",
       "      <th>browser_id</th>\n",
       "      <th></th>\n",
       "      <th></th>\n",
       "      <th></th>\n",
       "    </tr>\n",
       "  </thead>\n",
       "  <tbody>\n",
       "    <tr>\n",
       "      <th>1462a54454f178-02687cf0f-18154453-fa000-1462a5445503b5</th>\n",
       "      <td>73</td>\n",
       "      <td>11</td>\n",
       "      <td>6</td>\n",
       "    </tr>\n",
       "    <tr>\n",
       "      <th>1462a834943150-073d49c93-18154453-232800-1462a8349444a5</th>\n",
       "      <td>0</td>\n",
       "      <td>0</td>\n",
       "      <td>0</td>\n",
       "    </tr>\n",
       "    <tr>\n",
       "      <th>1462a88c0ea7e-01a2ddb98-18154453-fa000-1462a88c0ed84</th>\n",
       "      <td>5</td>\n",
       "      <td>2</td>\n",
       "      <td>0</td>\n",
       "    </tr>\n",
       "    <tr>\n",
       "      <th>1462a9527e825-0a21ebb94-18154453-232800-1462a9527e93de</th>\n",
       "      <td>0</td>\n",
       "      <td>0</td>\n",
       "      <td>0</td>\n",
       "    </tr>\n",
       "    <tr>\n",
       "      <th>1463debdc1d28-01850ff9c-19154453-13c680-1463debdc1e3fe</th>\n",
       "      <td>0</td>\n",
       "      <td>0</td>\n",
       "      <td>0</td>\n",
       "    </tr>\n",
       "  </tbody>\n",
       "</table>\n",
       "</div>"
      ],
      "text/plain": [
       "                                                    search_page  product_page  \\\n",
       "browser_id                                                                      \n",
       "1462a54454f178-02687cf0f-18154453-fa000-1462a54...           73            11   \n",
       "1462a834943150-073d49c93-18154453-232800-1462a8...            0             0   \n",
       "1462a88c0ea7e-01a2ddb98-18154453-fa000-1462a88c...            5             2   \n",
       "1462a9527e825-0a21ebb94-18154453-232800-1462a95...            0             0   \n",
       "1463debdc1d28-01850ff9c-19154453-13c680-1463deb...            0             0   \n",
       "\n",
       "                                                    share_product  \n",
       "browser_id                                                         \n",
       "1462a54454f178-02687cf0f-18154453-fa000-1462a54...              6  \n",
       "1462a834943150-073d49c93-18154453-232800-1462a8...              0  \n",
       "1462a88c0ea7e-01a2ddb98-18154453-fa000-1462a88c...              0  \n",
       "1462a9527e825-0a21ebb94-18154453-232800-1462a95...              0  \n",
       "1463debdc1d28-01850ff9c-19154453-13c680-1463deb...              0  "
      ]
     },
     "execution_count": 33,
     "metadata": {},
     "output_type": "execute_result"
    }
   ],
   "source": [
    "GROUP_KEY = 'browser_id'\n",
    "TIME_FIELD = 'time'\n",
    "EVENT_FIELD = 'event'\n",
    "FUNNEL_STEPS = ['search_page', 'product_page', 'share_product']\n",
    "\n",
    "\n",
    "def funnelize(group, funnel_steps):\n",
    "    curr = 0\n",
    "    funnel_cts = [0 for s in funnel_steps]\n",
    "\n",
    "    for i, row in group.iterrows():\n",
    "        evt = row[EVENT_FIELD]\n",
    "        if evt in funnel_steps:\n",
    "            idx = funnel_steps.index(evt)\n",
    "            if idx <= curr + 1:\n",
    "                funnel_cts[idx] += 1\n",
    "                curr = idx\n",
    "        \n",
    "    return funnel_cts\n",
    "\n",
    "\n",
    "# sort event dataset by time\n",
    "df.sort_values(by=TIME_FIELD, ascending=True, inplace=True)\n",
    "\n",
    "# step through events by group_key (i.e., browser, visit), \n",
    "# and increment event counts by funnel step if prior funnel steps occurred\n",
    "funnel_cts = df.groupby(GROUP_KEY).apply(funnelize, FUNNEL_STEPS)\n",
    "\n",
    "# format results as a dataframe\n",
    "funnel = pd.DataFrame(list(funnel_cts.values), index=funnel_cts.index, columns=FUNNEL_STEPS)\n",
    "\n",
    "funnel.head()"
   ]
  },
  {
   "cell_type": "code",
   "execution_count": 34,
   "metadata": {
    "collapsed": false
   },
   "outputs": [
    {
     "name": "stdout",
     "output_type": "stream",
     "text": [
      "search_page      20658\n",
      "product_page     10508\n",
      "share_product     5029\n",
      "dtype: int64\n"
     ]
    }
   ],
   "source": [
    "# funnel summary (aggregate)\n",
    "\n",
    "print funnel[FUNNEL_STEPS].sum()"
   ]
  },
  {
   "cell_type": "code",
   "execution_count": 35,
   "metadata": {
    "collapsed": false
   },
   "outputs": [
    {
     "name": "stdout",
     "output_type": "stream",
     "text": [
      "search_page      4259\n",
      "product_page     2560\n",
      "share_product    1699\n",
      "dtype: int64\n"
     ]
    }
   ],
   "source": [
    "# funnel summary, deduped across group key \n",
    "# (i.e., event occurrences become 1/0 indicators instead of counts)\n",
    "\n",
    "funnel_norm = funnel.copy()\n",
    "funnel_norm[funnel_norm != 0] = 1\n",
    "print funnel_norm[FUNNEL_STEPS].sum()"
   ]
  }
 ],
 "metadata": {
  "kernelspec": {
   "display_name": "Python 2",
   "language": "python",
   "name": "python2"
  },
  "language_info": {
   "codemirror_mode": {
    "name": "ipython",
    "version": 2
   },
   "file_extension": ".py",
   "mimetype": "text/x-python",
   "name": "python",
   "nbconvert_exporter": "python",
   "pygments_lexer": "ipython2",
   "version": "2.7.6"
  }
 },
 "nbformat": 4,
 "nbformat_minor": 0
}
